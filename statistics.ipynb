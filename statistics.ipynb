{
 "cells": [
  {
   "cell_type": "code",
   "execution_count": 154,
   "metadata": {},
   "outputs": [],
   "source": [
    "# functions\n",
    "from collections import Counter\n",
    "import linear_algebra as la\n",
    "import math\n",
    "\n",
    "#DESCRIPTVE STATISTICS\n",
    "def mean(vec):\n",
    "    return sum(vec) / len(vec)\n",
    "\n",
    "def median(vec):\n",
    "    sorted(vec)\n",
    "    size = len(vec)\n",
    "    if (size % 2 != 0):\n",
    "        i = int(((size-1)/2)-1)\n",
    "        return vec[i]\n",
    "    else:\n",
    "        m = int(size / 2)\n",
    "        return (vec[m] + vec[m-1]) / 2\n",
    "\n",
    "def mode(vec):\n",
    "    counts = Counter(vec)\n",
    "    max_count = max(counts.values())\n",
    "    return [x for x , count in counts.items()\n",
    "           if count == max_count]\n",
    "\n",
    "def data_range(vec):\n",
    "    return max(vec) + min(vec)\n",
    "\n",
    "def deviation(vec):\n",
    "    pop_mean = mean(vec)\n",
    "    return [x_i - pop_mean for x_i in vec]\n",
    "\n",
    "def squared_deviation(vec):\n",
    "    pop_mean = mean(vec)\n",
    "    return [(x_i - pop_mean)**2 for x_i in vec]\n",
    "\n",
    "def variance(vec):\n",
    "    return mean(squared_deviation(vec))\n",
    "\n",
    "def standard_deviation(vec):\n",
    "    return math.sqrt(variance(vec))\n",
    "\n",
    "def sample_standard_deviation(vec):\n",
    "    return math.sqrt(sum(squared_deviation(vec)) / (len(vec) - 1))\n",
    "\n",
    "def covariance(vec1, vec2):\n",
    "    n = len(vec1)\n",
    "    return la.dot_product(deviation(vec1), deviation(vec2)) / (n-1)\n",
    "\n",
    "def standard_error(sample_size, pop_standard_deviation):\n",
    "    return pop_standard_deviation / (math.sqrt(sample_size))\n",
    "\n",
    "def z_score_sample(value, pop_mean, standard_error):\n",
    "    return (value - pop_mean) / standard_error\n",
    "\n",
    "def z_score_pop(value, pop_vec):\n",
    "     return (value - mean(pop_vec)) / standard_deviation(pop_vec)\n",
    "    \n",
    "# iNFERENTIAL STATTISTICS\n",
    "\n",
    "## Estimation\n",
    "\n",
    "def margin_error(z_or_t_score, sample_size, std_dev):\n",
    "    return z_or_t_score * (std_dev / math.sqrt(sample_size))\n",
    "\n",
    "def confidence_interval(z_or_t_score, mean, std_dev, sample_size):\n",
    "    me = margin_error(z_or_t_score, sample_size, std_dev)\n",
    "    left = mean - me\n",
    "    right = mean + me\n",
    "    return (left, right)\n",
    "\n",
    "## t Tests\n",
    "def t_statistic_(xbar, value, sample_std, sample_size):\n",
    "    return (xbar - value) / standard_error(sample_size, sample_std)\n",
    "\n",
    "def t_statistic(value, sample):\n",
    "    sm = mean(sample)\n",
    "    s_std =  sample_standard_deviation(sample)\n",
    "    s_size = len(sample)\n",
    "    return t_statistic_(sm, value, s_std, s_size)\n",
    "\n",
    "def t_statistic_paired(sample1, sample2, value):\n",
    "    sample_size = len(sample1)\n",
    "    xbar = point_estimate(sample1, sample2)\n",
    "    sample_std = std_dev_difference_sample(sample1,sample2)\n",
    "    return t_statistic_(xbar, value, sample_std, sample_size)\n",
    "\n",
    "def point_estimate(vec1, vec2):\n",
    "    return mean(vec1) - mean(vec2)\n",
    "\n",
    "def cohens_d(mean, value, std_dev):\n",
    "    return (mean - value) /std_dev\n",
    "\n",
    "def cohens_d_paired(sample1, sample2, value):\n",
    "    diffs = difference(sample1, sample2)\n",
    "    diffs_mean = mean(diffs)\n",
    "    std_dev = std_dev_difference_sample(sample1, sample2)\n",
    "    return cohens_d(diffs_mean, value ,std_dev)\n",
    "\n",
    "def z_scores_sample_interval(interval, pop_mean, std_error):\n",
    "    z1 = z_score_sample(interval[0], pop_mean, std_error)\n",
    "    z2 = z_score_sample(interval[1], pop_mean, std_error)\n",
    "    return (z1, z2)\n",
    "    \n",
    "def std_dev_difference(vec1, vec2):\n",
    "    diffs = difference(vec1, vec2)  \n",
    "    return standard_deviation(diffs)\n",
    "\n",
    "def std_dev_difference_sample(vec1, vec2):\n",
    "    diffs = difference(vec1, vec2)    \n",
    "    return sample_standard_deviation(diffs)\n",
    "\n",
    "def difference(vec1, vec2):\n",
    "    return [(x - vec2[i]) for i,x in enumerate(vec1)];\n",
    "\n",
    "def std_error_difference(vec1, vec2, n):\n",
    "    std_dev = std_dev_difference_sample(vec1, vec2)\n",
    "    return standard_error(n, std_dev)\n",
    "\n",
    "def r_squared(t, degrees_of_freedom):\n",
    "    t_squared = t ** 2\n",
    "    return t_squared / (t_squared + degrees_of_freedom)\n",
    "\n",
    "def correlation(vec1, vec2):\n",
    "    stdev_1 = standard_deviation(vec1)\n",
    "    stdev_2 = standard_deviation(vec2)\n",
    "    if (stdev_1 > 0 and stdev_2 > 0):\n",
    "        return covariance(vec1, vec2) / stdev_1 / stdev_2\n",
    "    else:\n",
    "        return 0 #se nao houver amplitude a correlacao eh zero\n",
    "    \n",
    "class ReportResult(object):\n",
    "    def __init__(self, sample, alpha, p_value_for_alpha):\n",
    "        self.__sample = sample\n",
    "        self.__alpha = alpha\n",
    "        self.__p_value_for_alpha = p_value_for_alpha\n",
    "        \n",
    "    def get_mean(self):\n",
    "        return mean(self.__sample)\n",
    "    \n",
    "    def get_std_dev(self):\n",
    "        return sample_standard_deviation(self.__sample)\n",
    "    \n",
    "    def get_t_statistic(self):\n",
    "        return t_statistic(self.__p_value_for_alpha, self.__sample)\n",
    "    \n",
    "    def get_ci(self):\n",
    "        return confidence_interval(self.__p_value_for_alpha, self.get_mean(), self.get_std_dev(), len(self.__sample))     \n",
    "\n",
    "    def show(self):\n",
    "        print('\\n--------- Report Results --------- ')\n",
    "        print('\\n1 - Descriptive Statistics')\n",
    "        print('Sample Size: ' , str(len(self.__sample)))\n",
    "        print('Mean: ' , str(self.get_mean()))\n",
    "        print('Standard Deviation: ' , str(self.get_std_dev()))\n",
    "        print('\\n2 - Inferential Statistics')\n",
    "        print('Alpha Level: ' , str(self.__alpha) , '%')\n",
    "        print('Test Type: t-Test')\n",
    "        print('T Statistic: ' , str(self.get_t_statistic()))\n",
    "        print('Degrees of Freedom: ' , str((len(self.__sample) - 1)))\n",
    "        print('P-value: ' , str(self.__p_value_for_alpha))\n",
    "        print('Test Direction: Bi-Directional')\n",
    "        print('Confidence Interval: ' , str(self.get_ci()))\n",
    "        "
   ]
  },
  {
   "cell_type": "code",
   "execution_count": 103,
   "metadata": {
    "collapsed": true
   },
   "outputs": [],
   "source": [
    "# BELLOW ARE EXERCISES CODES"
   ]
  },
  {
   "cell_type": "code",
   "execution_count": 104,
   "metadata": {},
   "outputs": [
    {
     "data": {
      "text/plain": [
       "0.14310835055998652"
      ]
     },
     "execution_count": 104,
     "metadata": {},
     "output_type": "execute_result"
    }
   ],
   "source": [
    "standard_error(20, 0.64)"
   ]
  },
  {
   "cell_type": "code",
   "execution_count": 105,
   "metadata": {},
   "outputs": [
    {
     "data": {
      "text/plain": [
       "10.06230589874905"
      ]
     },
     "execution_count": 105,
     "metadata": {},
     "output_type": "execute_result"
    }
   ],
   "source": [
    "z_score_sample(8.94,7.5,standard_error(20, 0.64))"
   ]
  },
  {
   "cell_type": "code",
   "execution_count": 106,
   "metadata": {},
   "outputs": [
    {
     "data": {
      "text/plain": [
       "0.918932045547861"
      ]
     },
     "execution_count": 106,
     "metadata": {},
     "output_type": "execute_result"
    }
   ],
   "source": [
    "z_score_sample(8.35,8.2,standard_error(20, 0.73))"
   ]
  },
  {
   "cell_type": "code",
   "execution_count": 107,
   "metadata": {},
   "outputs": [
    {
     "data": {
      "text/plain": [
       "2.0"
      ]
     },
     "execution_count": 107,
     "metadata": {},
     "output_type": "execute_result"
    }
   ],
   "source": [
    "standard_error(25, 10)"
   ]
  },
  {
   "cell_type": "code",
   "execution_count": 108,
   "metadata": {},
   "outputs": [
    {
     "data": {
      "text/plain": [
       "3.9"
      ]
     },
     "execution_count": 108,
     "metadata": {},
     "output_type": "execute_result"
    }
   ],
   "source": [
    "margin_error(1.95,25,10)"
   ]
  },
  {
   "cell_type": "code",
   "execution_count": 109,
   "metadata": {},
   "outputs": [
    {
     "data": {
      "text/plain": [
       "6.0"
      ]
     },
     "execution_count": 109,
     "metadata": {},
     "output_type": "execute_result"
    }
   ],
   "source": [
    "standard_error(9,18)"
   ]
  },
  {
   "cell_type": "code",
   "execution_count": 110,
   "metadata": {},
   "outputs": [
    {
     "data": {
      "text/plain": [
       "-2.5854535989841327"
      ]
     },
     "execution_count": 110,
     "metadata": {},
     "output_type": "execute_result"
    }
   ],
   "source": [
    "z_score_sample(7.13,7.5, standard_error(20,0.64))"
   ]
  },
  {
   "cell_type": "code",
   "execution_count": 111,
   "metadata": {},
   "outputs": [
    {
     "data": {
      "text/plain": [
       "1.8863473972169642"
      ]
     },
     "execution_count": 111,
     "metadata": {},
     "output_type": "execute_result"
    }
   ],
   "source": [
    "z_score_sample(8.3,7.47, standard_error(30,2.41))"
   ]
  },
  {
   "cell_type": "code",
   "execution_count": 112,
   "metadata": {},
   "outputs": [
    {
     "name": "stdout",
     "output_type": "stream",
     "text": [
      "where hiposys mean falls in samples mean:  2.4352640181943364\n"
     ]
    }
   ],
   "source": [
    "pop_mean = 7.47\n",
    "pop_std = 2.41\n",
    "hip_mean = 8.3\n",
    "sample_size = 50\n",
    "std_error = standard_error(sample_size, pop_std)\n",
    "where_hip_mean_falls_in_samples_mean = z_score_sample(hip_mean,pop_mean, std_error)\n",
    "print(\"where hiposys mean falls in samples mean: \", str(where_hip_mean_falls_in_samples_mean))"
   ]
  },
  {
   "cell_type": "code",
   "execution_count": 113,
   "metadata": {},
   "outputs": [
    {
     "name": "stdout",
     "output_type": "stream",
     "text": [
      "where hiposys mean falls in samples mean:  0.9682375012097956\n"
     ]
    }
   ],
   "source": [
    "pop_mean = 7.47\n",
    "pop_std = 2.41\n",
    "hip_mean = 7.8\n",
    "sample_size = 50\n",
    "std_error = standard_error(sample_size, pop_std)\n",
    "where_hip_mean_falls_in_samples_mean = z_score_sample(hip_mean,pop_mean, std_error)\n",
    "print(\"where hiposys mean falls in samples mean: \", str(where_hip_mean_falls_in_samples_mean))"
   ]
  },
  {
   "cell_type": "code",
   "execution_count": 114,
   "metadata": {},
   "outputs": [
    {
     "data": {
      "text/plain": [
       "1.0"
      ]
     },
     "execution_count": 114,
     "metadata": {},
     "output_type": "execute_result"
    }
   ],
   "source": [
    "standard_error(36,6)"
   ]
  },
  {
   "cell_type": "code",
   "execution_count": 115,
   "metadata": {},
   "outputs": [
    {
     "data": {
      "text/plain": [
       "3.0"
      ]
     },
     "execution_count": 115,
     "metadata": {},
     "output_type": "execute_result"
    }
   ],
   "source": [
    "z_score_sample(28,25,standard_error(36,6))"
   ]
  },
  {
   "cell_type": "code",
   "execution_count": 116,
   "metadata": {},
   "outputs": [
    {
     "data": {
      "text/plain": [
       "0.09"
      ]
     },
     "execution_count": 116,
     "metadata": {},
     "output_type": "execute_result"
    }
   ],
   "source": [
    "standard_error(16,0.36)"
   ]
  },
  {
   "cell_type": "code",
   "execution_count": 117,
   "metadata": {},
   "outputs": [
    {
     "data": {
      "text/plain": [
       "-1.9111111111111179"
      ]
     },
     "execution_count": 117,
     "metadata": {},
     "output_type": "execute_result"
    }
   ],
   "source": [
    "z_score_sample(22.793,22.965, 0.09)"
   ]
  },
  {
   "cell_type": "code",
   "execution_count": 118,
   "metadata": {},
   "outputs": [
    {
     "name": "stdout",
     "output_type": "stream",
     "text": [
      "where hiposys mean falls in samples mean:  16.964950524944058\n"
     ]
    }
   ],
   "source": [
    "pop_mean = 7895\n",
    "pop_std = 230\n",
    "hip_mean = 9640\n",
    "sample_size = 5\n",
    "std_error = standard_error(sample_size, pop_std)\n",
    "where_hip_mean_falls_in_samples_mean = z_score_sample(hip_mean,pop_mean, std_error)\n",
    "print(\"where hiposys mean falls in samples mean: \", str(where_hip_mean_falls_in_samples_mean))"
   ]
  },
  {
   "cell_type": "code",
   "execution_count": 119,
   "metadata": {},
   "outputs": [
    {
     "name": "stdout",
     "output_type": "stream",
     "text": [
      "Mean:  6.07  Xbar:  6.4696000000000025\n"
     ]
    }
   ],
   "source": [
    "#LESSON 6 QUIZ 15\n",
    "finches = [6.5,6.2,6.6,6,6.6,6.1,6.2,6.3,6.2,6,6.7,7.2,6.6,7,6.4,6.4,6,6.5,6.2,6.5,5.8,7.2,6.5,6.2,6.1,6.1,6.7,7.3,6.4,6.1,6.4,6.2,6.1,6.6,6.4,7.2,6.4,6.4,6.7,6.7,6.4,6,6.1,6,7.1,6.6,7,6.2,6.6,6.6,6.7,6.3,6.7,6.8,6.1,6.2,6,6.7,5.9,7.1,6.4,6.4,7.6,6.4,5.9,6.5,6.7,6.4,6.9,7,6.7,7,5.8,6.5,6.2,6.7,6.2,5.8,6.1,6.9,6.9,6.8,6,7.2,6.2,7,6.5,6.8,6,6.9,6.6,7,6.1,6.8,6.4,6.6,6.5,6.7,6.4,5.9,6.6,6.5,6.5,6.7,6,6.5,7.3,6.6,6.2,6.4,6.2,6.4,6.7,7,5.8,6.8,6.7,6.6,6.1,6.7,6.3,7,6.7,6.8,6.5,6.5,6.3,6.6,7.1,6.7,6.8,6.9,6,6.7,6.9,6.3,6.6,5.8,6.3,5.7,6.4,7,6.4,6.3,6.5,6.8,6.4,6.4,6.3,5.9,6.9,5.8,6.3,6.2,6.4,6.8,6.5,6.2,6.5,5.9,6,5.8,7.3,6.3,6.4,6.5,6.4,6,6.9,6.7,6.8,7,6.1,6.7,6.5,6.4,6.2,6.1,6.1,6.9,6.7,6.8,6.1,6.5,6.4,5.4,5.9,6.5,6.4,6.1,6.7,6.8,6.4,6.7,6.2,6,6.6,6.2,6.5,6.6,5.9,6,6.4,6.5,6.5,5.7,5.9,6.5,6.8,6.5,6.3,6.5,7,7.1,6,6.3,6.6,6.5,6,6.2,6.7,6.5,6.8,6.4,6,6.3,6.6,6.9,7.1,6.9,7.2,6.7,6.2,6.3,6.7,6.5,6.5,6.2,6.7,6.3,6.6,6.3,6.5,6.3,6.5,7,7,6.6,6.8,6.9,6.6,6.4,5.7,6.5,7,7,6,5.8,6.2,6.5,6.5,6.7,6.9,6.9,6.7,7.1,6.3,6,6,6.3,6.9,6.6,5.7,6.9,7,6.9,7.4,6.7,6.9,6.4,6.6,6.4,6.1,6.2,6.3,6.3,6.8,6.1,7.1,7.1,6.3,6,6.7,7.1,6.5,6.1,6,6.5,6.3,6.2,5.8,6.5,7,6.6,6.2,6.1,6.7,6.2,6.3,6,5.7,6.9,6.9,6.1,7,7.5,6,6.5,6.5,6.4,6.7,6.4,7.3,6.7,6,6,6.7,6.3,6.3,6.6,5.3,6.5,6.2,7.1,7,6.4,7.2,6,6.5,6.3,5.8,5.9,6.5,6.8,5.7,6.3,6.1,6.1,6.8,6.5,6.8,6.3,6.8,7.1,6.1,6.2,6.4,6.2,6.1,7.3,6.1,6.4,6.8,6.5,5.8,6.9,6.5,6.2,6.7,6.3,6.3,7.2,6.3,6.5,5.9,7.1,5.9,6.1,5.8,6.1,6.9,5.8,6.4,6.2,6.9,6.5,7,6.6,6.2,6.7,6,6.3,5.9,6.6,6.4,6.1,6.4,6.5,6.2,7.2,6.3,6.8,6.4,5.6,6.4,6.4,6.4,7,6.4,6.4,6.1,7.2,6.3,5.3,6.6,6.1,6,6.4,6.5,6,6.4,6.1,6.5,6.6,6.4,7,6.9,6.5,6.1,7.1,6.5,6.4,6.1,6,6,7.1,6,6,6.7,6.7,6.6,6.5,6.2,6.5,6.9,5.9,6.4,6.6,7,6.3,6,6.9,7.6,6.6,6,7,6.7,6,6.4,6.9,6,6.4,7.5,6.6,5.9,6.7,6.3,6.7,7.1,7.4,7,6.9,6.5,7.2,5.9,5.9,7.1,6.2,7.3,6.4,7,6.6,6.2,6.2,6.3,6.6,5.8,6.7,6,6.7,6.9,6.4,6.6,6.1,6,5.9,7,6.3,6.8,6.7]\n",
    "# do finches today have differente-sizes beak widths that before?\n",
    "mean_from_years_before = 6.07\n",
    "finches_mean = mean(finches)\n",
    "print('Mean: ', str(mean_from_years_before), ' Xbar: ', str(finches_mean))"
   ]
  },
  {
   "cell_type": "code",
   "execution_count": 120,
   "metadata": {},
   "outputs": [
    {
     "name": "stdout",
     "output_type": "stream",
     "text": [
      "Sample Size:  500  Degrees of Freedom:  499\n"
     ]
    }
   ],
   "source": [
    "#LESSON 6 QUIZ 16\n",
    "sample_size = len(finches)\n",
    "degrees_of_freedom = sample_size -1\n",
    "print('Sample Size: ', str(sample_size), ' Degrees of Freedom: ', str(degrees_of_freedom))"
   ]
  },
  {
   "cell_type": "code",
   "execution_count": 121,
   "metadata": {},
   "outputs": [
    {
     "name": "stdout",
     "output_type": "stream",
     "text": [
      "Xbar:  6.4696000000000025 Sample Std:  0.39611823906333427\n"
     ]
    }
   ],
   "source": [
    "#LESSON 6 QUIZ 17\n",
    "xbar = finches_mean\n",
    "sample_std = sample_standard_deviation(finches)\n",
    "print('Xbar: ', str(xbar), 'Sample Std: ', str(sample_std))"
   ]
  },
  {
   "cell_type": "code",
   "execution_count": 122,
   "metadata": {},
   "outputs": [
    {
     "name": "stdout",
     "output_type": "stream",
     "text": [
      "t:  22.557223467462105\n"
     ]
    }
   ],
   "source": [
    "#LESSON 6 QUIZ 18\n",
    "t = t_statistic(mean_from_years_before, finches)\n",
    "print('t: ', str(t))"
   ]
  },
  {
   "cell_type": "code",
   "execution_count": 123,
   "metadata": {},
   "outputs": [
    {
     "name": "stdout",
     "output_type": "stream",
     "text": [
      "Do we reject de null?  True\n"
     ]
    }
   ],
   "source": [
    "#LESSON 6 QUIZ 18\n",
    "t_95perct_499df= 1.96472941\n",
    "reject_null = t > t_95perct_499df or t < t_95perct_499df\n",
    "print('Do we reject de null? ', str(reject_null))"
   ]
  },
  {
   "cell_type": "code",
   "execution_count": 124,
   "metadata": {},
   "outputs": [
    {
     "name": "stdout",
     "output_type": "stream",
     "text": [
      "t:  0.977461894333816\n"
     ]
    }
   ],
   "source": [
    "#LESSON 6 QUIZ 18\n",
    "nro_sample = [5,19,11,23,12,7,3,21]\n",
    "m = 10\n",
    "sig = 0.05\n",
    "t = t_statistic(m, nro_sample)\n",
    "print('t: ', str(t))"
   ]
  },
  {
   "cell_type": "code",
   "execution_count": 125,
   "metadata": {},
   "outputs": [
    {
     "name": "stdout",
     "output_type": "stream",
     "text": [
      "t:  -3.25\n"
     ]
    }
   ],
   "source": [
    "#LESSON 6 QUIZ 24\n",
    "m = 1700\n",
    "s = 200\n",
    "sample_size = 25\n",
    "mean_rent = 1830\n",
    "t = t_statistic_(m,mean_rent,s,sample_size)\n",
    "print('t: ', str(t))"
   ]
  },
  {
   "cell_type": "code",
   "execution_count": 126,
   "metadata": {},
   "outputs": [
    {
     "name": "stdout",
     "output_type": "stream",
     "text": [
      "cohens d :  -0.65\n"
     ]
    }
   ],
   "source": [
    "#LESSON 6 QUIZ 26\n",
    "cd = cohens_d(m,mean_rent, s)\n",
    "print('cohens d : ', str(cd))"
   ]
  },
  {
   "cell_type": "code",
   "execution_count": 127,
   "metadata": {},
   "outputs": [
    {
     "data": {
      "text/plain": [
       "(1617.44, 1782.56)"
      ]
     },
     "execution_count": 127,
     "metadata": {},
     "output_type": "execute_result"
    }
   ],
   "source": [
    "#LESSON 6 QUIZ 28\n",
    "confidence_interval(2.064,m, s, sample_size)"
   ]
  },
  {
   "cell_type": "code",
   "execution_count": 128,
   "metadata": {},
   "outputs": [
    {
     "name": "stdout",
     "output_type": "stream",
     "text": [
      "Margin Error:  14.028998538741101\n"
     ]
    }
   ],
   "source": [
    "#LESSON 6 QUIZ 30\n",
    "me = margin_error(1.984,s,100)\n",
    "print('Margin Error: ', str(me))"
   ]
  },
  {
   "cell_type": "code",
   "execution_count": 129,
   "metadata": {},
   "outputs": [
    {
     "name": "stdout",
     "output_type": "stream",
     "text": [
      "xbar qwerty:  5.08\n",
      "xbar abcd:  7.8\n",
      "Point Estimate:  -2.7199999999999998\n",
      "Standard Deviation Difference:  3.6914315199752337\n",
      "T Statitic:  -3.6842075835369266\n",
      "Cohens D:  -0.7368415167073854\n",
      "Cnofidence Interval:  (-4.243822931445777, -1.1961770685542237)\n"
     ]
    }
   ],
   "source": [
    "# keyboards\n",
    "qwerty = [6,6,2,7,8,8,2,3,5,7,10,5,4,7,5,7,4,5,2,5,3,4,4,4,4]\n",
    "abcd = [6,11,8,5,11,8,10,7,4,3,7,6,10,10,6,5,10,11,13,8,5,11,7,8,5]\n",
    "mean_qwerty = mean(qwerty)\n",
    "mean_abcd = mean(abcd)\n",
    "print('xbar qwerty: ', str(mean_qwerty))\n",
    "print('xbar abcd: ', str(mean_abcd))\n",
    "\n",
    "pe = point_estimate(qwerty,abcd)\n",
    "print('Point Estimate: ' , str(pe))\n",
    "\n",
    "std_dev_diff = std_dev_difference_sample(qwerty, abcd)\n",
    "print('Standard Deviation Difference: ' , str(std_dev_diff))\n",
    "\n",
    "t = t_statistic_paired(qwerty,abcd,0)\n",
    "print('T Statitic: ', str(t))\n",
    "\n",
    "cd = cohens_d_paired(qwerty,abcd,0)\n",
    "print('Cohens D: ', str(cd))\n",
    "\n",
    "ci = confidence_interval(2.064,mean(difference(qwerty,abcd)),std_dev_diff,len(qwerty))\n",
    "print('Cnofidence Interval: ', str(ci))"
   ]
  },
  {
   "cell_type": "code",
   "execution_count": 130,
   "metadata": {},
   "outputs": [
    {
     "data": {
      "text/plain": [
       "2.9546573405388314"
      ]
     },
     "execution_count": 130,
     "metadata": {},
     "output_type": "execute_result"
    }
   ],
   "source": [
    "# Vocabularies\n",
    "math.sqrt((1.2**2)+(2.7**2))"
   ]
  },
  {
   "cell_type": "code",
   "execution_count": 131,
   "metadata": {},
   "outputs": [
    {
     "data": {
      "text/plain": [
       "96.32419486019033"
      ]
     },
     "execution_count": 131,
     "metadata": {},
     "output_type": "execute_result"
    }
   ],
   "source": [
    "9/(2.9546573405388314/math.sqrt(1000))"
   ]
  },
  {
   "cell_type": "code",
   "execution_count": 132,
   "metadata": {},
   "outputs": [
    {
     "data": {
      "text/plain": [
       "0.16666666666666666"
      ]
     },
     "execution_count": 132,
     "metadata": {},
     "output_type": "execute_result"
    }
   ],
   "source": [
    "## r squared lesson 8\n",
    "r_squared(2,20)"
   ]
  },
  {
   "cell_type": "code",
   "execution_count": 133,
   "metadata": {},
   "outputs": [
    {
     "data": {
      "text/plain": [
       "10.0"
      ]
     },
     "execution_count": 133,
     "metadata": {},
     "output_type": "execute_result"
    }
   ],
   "source": [
    "standard_error(25,50)"
   ]
  },
  {
   "cell_type": "code",
   "execution_count": 134,
   "metadata": {},
   "outputs": [
    {
     "data": {
      "text/plain": [
       "2.5"
      ]
     },
     "execution_count": 134,
     "metadata": {},
     "output_type": "execute_result"
    }
   ],
   "source": [
    "t_statistic_(151,126,50,25)"
   ]
  },
  {
   "cell_type": "code",
   "execution_count": 135,
   "metadata": {},
   "outputs": [
    {
     "data": {
      "text/plain": [
       "0.5"
      ]
     },
     "execution_count": 135,
     "metadata": {},
     "output_type": "execute_result"
    }
   ],
   "source": [
    "cohens_d(151,126,50)"
   ]
  },
  {
   "cell_type": "code",
   "execution_count": 136,
   "metadata": {},
   "outputs": [
    {
     "data": {
      "text/plain": [
       "0.2066115702479339"
      ]
     },
     "execution_count": 136,
     "metadata": {},
     "output_type": "execute_result"
    }
   ],
   "source": [
    "r_squared(t_statistic_(151,126,50,25), 24)"
   ]
  },
  {
   "cell_type": "code",
   "execution_count": 138,
   "metadata": {},
   "outputs": [
    {
     "data": {
      "text/plain": [
       "27.1"
      ]
     },
     "execution_count": 138,
     "metadata": {},
     "output_type": "execute_result"
    }
   ],
   "source": [
    "margin_error(2.71,25,50)"
   ]
  },
  {
   "cell_type": "code",
   "execution_count": 140,
   "metadata": {},
   "outputs": [
    {
     "data": {
      "text/plain": [
       "19.76423537605237"
      ]
     },
     "execution_count": 140,
     "metadata": {},
     "output_type": "execute_result"
    }
   ],
   "source": [
    "margin_error(t_statistic_(151,126,50,25),standard_error(25,50),25)"
   ]
  },
  {
   "cell_type": "code",
   "execution_count": 155,
   "metadata": {},
   "outputs": [
    {
     "name": "stdout",
     "output_type": "stream",
     "text": [
      "\n",
      "--------- Report Results --------- \n",
      "\n",
      "1 - Descriptive Statistics\n",
      "Sample Size:  25\n",
      "Mean:  7.8\n",
      "Standard Deviation:  2.6457513110645903\n",
      "\n",
      "2 - Inferential Statistics\n",
      "Alpha Level:  95 %\n",
      "Test Type: t-Test\n",
      "T Statistic:  11.698000439635583\n",
      "Degrees of Freedom:  24\n",
      "P-value:  1.61\n",
      "Test Direction: Bi-Directional\n",
      "Confidence Interval:  (6.948068077837202, 8.651931922162799)\n"
     ]
    }
   ],
   "source": [
    "sample = [6,11,8,5,11,8,10,7,4,3,7,6,10,10,6,5,10,11,13,8,5,11,7,8,5]\n",
    "report = ReportResult(sample, 95, 1.61)\n",
    "report.show()"
   ]
  },
  {
   "cell_type": "code",
   "execution_count": null,
   "metadata": {
    "collapsed": true
   },
   "outputs": [],
   "source": []
  }
 ],
 "metadata": {
  "kernelspec": {
   "display_name": "Python 3",
   "language": "python",
   "name": "python3"
  },
  "language_info": {
   "codemirror_mode": {
    "name": "ipython",
    "version": 3
   },
   "file_extension": ".py",
   "mimetype": "text/x-python",
   "name": "python",
   "nbconvert_exporter": "python",
   "pygments_lexer": "ipython3",
   "version": "3.6.1"
  }
 },
 "nbformat": 4,
 "nbformat_minor": 2
}
